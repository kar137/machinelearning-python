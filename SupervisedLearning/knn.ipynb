{
 "cells": [
  {
   "cell_type": "markdown",
   "metadata": {},
   "source": [
    "# K-Nearest Neighbors\n",
    "## Exercises"
   ]
  },
  {
   "cell_type": "code",
   "execution_count": 2,
   "metadata": {},
   "outputs": [
    {
     "name": "stdout",
     "output_type": "stream",
     "text": [
      "Predicted class: 1\n"
     ]
    }
   ],
   "source": [
    "# Import necessary libraries\n",
    "import pandas as pd\n",
    "from sklearn.neighbors import KNeighborsClassifier\n",
    "\n",
    "# Create a sample dataset\n",
    "data = {\n",
    "    \"tenure\": [12, 34, 45, 23, 56, 78, 90, 11, 29, 40],\n",
    "    \"support_calls\": [1, 3, 2, 4, 5, 1, 0, 2, 3, 4],\n",
    "    \"is_active\": [1, 0, 1, 0, 1, 1, 0, 1, 0, 1]  # Target variable\n",
    "}\n",
    "\n",
    "# Convert to DataFrame\n",
    "customer_df = pd.DataFrame(data)\n",
    "\n",
    "# Define target variable and features\n",
    "y = customer_df[\"is_active\"].values\n",
    "X = customer_df[[\"tenure\", \"support_calls\"]].values\n",
    "\n",
    "# Create a KNN classifier with 5 neighbors\n",
    "knn = KNeighborsClassifier(n_neighbors=10)\n",
    "\n",
    "# Fit the classifier to the data\n",
    "knn.fit(X, y)\n",
    "\n",
    "# Predict for a new customer\n",
    "new_customer = [[30, 2]]\n",
    "prediction = knn.predict(new_customer)\n",
    "print(\"Predicted class:\", prediction[0])\n"
   ]
  },
  {
   "cell_type": "markdown",
   "metadata": {},
   "source": [
    "- Here, 1 represents the target variable is churned which means the customer is active."
   ]
  },
  {
   "cell_type": "markdown",
   "metadata": {},
   "source": []
  }
 ],
 "metadata": {
  "kernelspec": {
   "display_name": "Virtual Environment",
   "language": "python",
   "name": ".venv"
  },
  "language_info": {
   "codemirror_mode": {
    "name": "ipython",
    "version": 3
   },
   "file_extension": ".py",
   "mimetype": "text/x-python",
   "name": "python",
   "nbconvert_exporter": "python",
   "pygments_lexer": "ipython3",
   "version": "3.12.6"
  }
 },
 "nbformat": 4,
 "nbformat_minor": 2
}
